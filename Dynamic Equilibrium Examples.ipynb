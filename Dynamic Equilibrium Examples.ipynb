{
 "cells": [
  {
   "cell_type": "markdown",
   "metadata": {
    "collapsed": false
   },
   "source": [
    "Here are some examples of using IEtools ('Information Equilibrium \n",
    "tools') for python to investigate a couple of dynamic equilibrium \n",
    "models. There are two datasets used below, both obtainable from FRED.\n",
    "\n",
    "One is (nominal) GDP divided by All Employees: Total Nonfarm Payrolls \n",
    "(PAYEMS). This can be obtained from FRED by editing the graph, editing\n",
    "the line, and customizing the data (adding the second series and using\n",
    "a custom formula \"a/b\")\n",
    "\n",
    "https://fred.stlouisfed.org/series/GDP\n",
    "\n",
    "https://fred.stlouisfed.org/series/PAYEMS\n",
    "\n",
    "\n",
    "The second is more straightforward and looks at the seasonally adjusted\n",
    "unemployment rate (UNRATE). This model only looks at recent data since\n",
    "the version of IEtools used here can only handle up to two shocks.\n",
    "\n",
    "https://fred.stlouisfed.org/series/UNRATE\n",
    "\n",
    "Both models are assessed using two different techniques. The first is \n",
    "the entropy minimization approach (finding the log-linear transformation\n",
    "that minimizes the entropy of the log-linear slope bins). This separates\n",
    "the dynamic equilibrium from the shocks. The second technique is a \n",
    "direct curve fit of both the shocks and the dynamic equilibrium. This \n",
    "approach allows the dynamic equilibrium slope to potentially be affected \n",
    "by the details of the shock shocks. The former is more computationally\n",
    "intensive and requires more fiddling with the parameters to get the\n",
    "result right, but is theoretically more desireable for forecasts and\n",
    "adding data to the fit (additional shocks in new data do not affect a \n",
    "previously fit dynamic equilibrium slope as strongly).\n",
    "\n",
    "These were run in Python 3 using the Anaconda distribution.\n",
    "\n",
    "The dynamic equilibrium model is described in more detail here:\n",
    "\n",
    "http://informationtransfereconomics.blogspot.com/2017/01/dynamic-equilibrium-presentation.html\n",
    "\n",
    "Have fun,\n",
    "\n",
    "Jason Smith"
   ]
  },
  {
   "cell_type": "code",
   "execution_count": null,
   "metadata": {
    "collapsed": false
   },
   "outputs": [],
   "source": [
    "import numpy as np\n",
    "import pylab as pl\n",
    "from IEtools import *\n",
    "%pylab inline"
   ]
  },
  {
   "cell_type": "markdown",
   "metadata": {},
   "source": [
    "# Example: NGDP/PAYEMS"
   ]
  },
  {
   "cell_type": "markdown",
   "metadata": {},
   "source": [
    "First we read in the GDP/PAYEMS data and plot it."
   ]
  },
  {
   "cell_type": "code",
   "execution_count": null,
   "metadata": {
    "collapsed": true
   },
   "outputs": [],
   "source": [
    "filename='C:/econdata/GDP_PAYEMS.csv'\n",
    "\n",
    "output = FREDcsvRead(filename)"
   ]
  },
  {
   "cell_type": "code",
   "execution_count": null,
   "metadata": {
    "collapsed": false
   },
   "outputs": [],
   "source": [
    "plotData = output['data']\n",
    "plotType = pl.plot\n",
    "plotType = pl.semilogy\n",
    "plotScale = 10**6\n",
    "plotLabel = output['name']+' [$ p.c.]'\n",
    "pl.figure(figsize=(12,6))\n",
    "plotType(plotData[:,0],plotData[:,1]*plotScale)\n",
    "pl.ylabel(plotLabel)\n",
    "pl.show()"
   ]
  },
  {
   "cell_type": "markdown",
   "metadata": {},
   "source": [
    "## Dynamic equilibrium models"
   ]
  },
  {
   "cell_type": "markdown",
   "metadata": {},
   "source": [
    "This applies the entropy minimization method of finding the dynamic equilibrium."
   ]
  },
  {
   "cell_type": "code",
   "execution_count": null,
   "metadata": {
    "collapsed": false
   },
   "outputs": [],
   "source": [
    "temp = dynamic_equilibrium_optimize(output['data'],alphaDelta=0.01,method='brute')\n",
    "transform = log_linear_transform(output['data'], temp)\n",
    "\n",
    "transform[:,1] = np.exp(transform[:,1])\n",
    "guess = [1.0,-1.0,1977.0,0.1,0.1,2015.0, 0.0]\n",
    "result = dynamic_eq_fit(two_shock, transform, guess)\n",
    "\n",
    "fitData = result['fit']\n",
    "popt = result['params']\n",
    "pcov = result['cov']       \n",
    "        \n",
    "plotData = transform        \n",
    "plotScale = 1\n",
    "plotLabel = output['name']+' [transformed]'\n",
    "plotData2 = fitData\n",
    "\n",
    "pl.figure(figsize=(12,6))\n",
    "for index in range(len(result['transitions'])):\n",
    "    pl.axvline(x=result['transitions'][index],color='0.5',linewidth=0.5)   \n",
    "pl.plot(plotData[:,0],np.log(plotData[:,1]),plotData[:,0],np.log(plotData2))\n",
    "pl.ylabel(plotLabel)\n",
    "pl.show()\n",
    "\n",
    "print('Dynamic equilibrium growth rate (entropy min) = ',np.round(100*temp,decimals=2))\n",
    "print('Shock centers = ',np.round(result['transitions'],decimals=1))\n",
    "print('Shock widths = ',np.round(result['shock_widths'],decimals=2))\n",
    "print('Shock magnitudes = ',np.round(result['shock_mags'],decimals=2))"
   ]
  },
  {
   "cell_type": "markdown",
   "metadata": {},
   "source": [
    "This uses the global fit approach."
   ]
  },
  {
   "cell_type": "code",
   "execution_count": null,
   "metadata": {
    "collapsed": false
   },
   "outputs": [],
   "source": [
    "guess = [1.0,-1.0,1980.0,0.1,0.1,2010.0,0.04,0.0]\n",
    "result = dynamic_eq_fit(two_shock_eq, output['data'], guess)\n",
    "\n",
    "fitData = result['fit']\n",
    "popt = result['params']\n",
    "pcov = result['cov']\n",
    "        \n",
    "growthRate=np.round(popt[-2]*100,decimals=2)\n",
    "growthError=np.round(2*100*np.sqrt(np.diag(pcov))[-2],decimals=2)\n",
    "\n",
    "\n",
    "plotData = output['data']\n",
    "plotType = pl.plot\n",
    "plotType = pl.semilogy\n",
    "plotScale = 10**6\n",
    "plotLabel = output['name']+' [$ p.c.]'\n",
    "plotData2 = fitData\n",
    "\n",
    "pl.figure(figsize=(12,6))\n",
    "for index in range(len(result['transitions'])):\n",
    "    pl.axvline(x=result['transitions'][index],color='0.5',linewidth=0.5)   \n",
    "plotType(plotData[:,0],plotData[:,1]*plotScale,plotData[:,0],plotData2*plotScale)\n",
    "pl.ylabel(plotLabel)\n",
    "pl.show()\n",
    "\n",
    "print('Dynamic equilibrium growth rate = ',growthRate,'+/-',growthError,'%')\n",
    "print('Shock centers = ',np.round(result['transitions'],decimals=1))\n",
    "print('Shock widths = ',np.round(result['shock_widths'],decimals=2))\n",
    "print('Shock magnitudes = ',np.round(result['shock_mags'],decimals=2))"
   ]
  },
  {
   "cell_type": "markdown",
   "metadata": {},
   "source": [
    "# Example: UNRATE"
   ]
  },
  {
   "cell_type": "markdown",
   "metadata": {},
   "source": [
    "Here we read in the unemployment rate data and plot it. We take only the most recent data because the version of python IEtools used here could only look at two shocks."
   ]
  },
  {
   "cell_type": "code",
   "execution_count": null,
   "metadata": {
    "collapsed": false
   },
   "outputs": [],
   "source": [
    "filename='C:/econdata/UNRATE.csv'\n",
    "\n",
    "output0 = FREDcsvRead(filename)\n",
    "output = {\n",
    "    'data': output0['data'][-170:-1],\n",
    "    'name': output0['name']\n",
    "}"
   ]
  },
  {
   "cell_type": "code",
   "execution_count": null,
   "metadata": {
    "collapsed": false
   },
   "outputs": [],
   "source": [
    "plotData = output['data']\n",
    "plotType = pl.plot\n",
    "plotScale = 1\n",
    "plotLabel = output['name']+' [$ p.c.]'\n",
    "pl.figure(figsize=(12,6))\n",
    "plotType(plotData[:,0],plotData[:,1]*plotScale)\n",
    "pl.ylabel(plotLabel)\n",
    "pl.show()"
   ]
  },
  {
   "cell_type": "markdown",
   "metadata": {},
   "source": [
    "## Dynamic equilibrium models"
   ]
  },
  {
   "cell_type": "markdown",
   "metadata": {},
   "source": [
    "This applies the entropy minimization method of finding the dynamic equilibrium."
   ]
  },
  {
   "cell_type": "code",
   "execution_count": null,
   "metadata": {
    "collapsed": false
   },
   "outputs": [],
   "source": [
    "temp = dynamic_equilibrium_optimize(output['data'],alphaDelta=0.001,method='brute')\n",
    "transform = log_linear_transform(output['data'], temp)\n",
    "\n",
    "transform[:,1] = np.exp(transform[:,1])\n",
    "guess = [1.0,-0.1,2008.0,0.1,0.1,2014.0, 0.0]\n",
    "result = dynamic_eq_fit(two_shock, transform, guess)\n",
    "\n",
    "fitData = result['fit']\n",
    "popt = result['params']\n",
    "pcov = result['cov']      \n",
    "        \n",
    "plotData = transform        \n",
    "plotScale = 1\n",
    "plotLabel = output['name']+' [transformed]'\n",
    "plotData2 = fitData\n",
    "\n",
    "pl.figure(figsize=(12,6))\n",
    "for index in range(len(result['transitions'])):\n",
    "    pl.axvline(x=result['transitions'][index],color='0.5',linewidth=0.5)   \n",
    "pl.plot(plotData[:,0],np.log(plotData[:,1]),plotData[:,0],np.log(plotData2))\n",
    "pl.ylabel(plotLabel)\n",
    "pl.show()\n",
    "\n",
    "print('Dynamic equilibrium growth rate (entropy min) = ',np.round(100*temp,decimals=2))\n",
    "print('Shock centers = ',np.round(result['transitions'],decimals=1))\n",
    "print('Shock widths = ',np.round(result['shock_widths'],decimals=2))\n",
    "print('Shock magnitudes = ',np.round(result['shock_mags'],decimals=2))"
   ]
  },
  {
   "cell_type": "markdown",
   "metadata": {},
   "source": [
    "This uses the global fit approach."
   ]
  },
  {
   "cell_type": "code",
   "execution_count": null,
   "metadata": {
    "collapsed": false
   },
   "outputs": [],
   "source": [
    "guess = [1.0,-0.1,2008.0,0.1,0.1,2014.0,-0.09,0.0]\n",
    "result = dynamic_eq_fit(two_shock_eq, output['data'], guess)\n",
    "\n",
    "fitData = result['fit']\n",
    "popt = result['params']\n",
    "pcov = result['cov']  \n",
    "        \n",
    "growthRate=np.round(popt[-2]*100,decimals=2)\n",
    "growthError=np.round(2*100*np.sqrt(np.diag(pcov))[-2],decimals=2)\n",
    "\n",
    "\n",
    "plotData = output['data']\n",
    "plotType = pl.plot\n",
    "plotScale = 1\n",
    "plotLabel = output['name']+' [%]'\n",
    "plotData2 = fitData\n",
    "\n",
    "pl.figure(figsize=(12,6))\n",
    "for index in range(len(result['transitions'])):\n",
    "    pl.axvline(x=result['transitions'][index],color='0.5',linewidth=0.5)   \n",
    "plotType(plotData[:,0],plotData[:,1]*plotScale,plotData[:,0],plotData2*plotScale)\n",
    "pl.ylabel(plotLabel)\n",
    "pl.show()\n",
    "\n",
    "print('Dynamic equilibrium growth rate = ',growthRate,'+/-',growthError,'%')\n",
    "print('Shock centers = ',np.round(result['transitions'],decimals=1))\n",
    "print('Shock widths = ',np.round(result['shock_widths'],decimals=2))\n",
    "print('Shock magnitudes = ',np.round(result['shock_mags'],decimals=2))"
   ]
  },
  {
   "cell_type": "code",
   "execution_count": null,
   "metadata": {
    "collapsed": true
   },
   "outputs": [],
   "source": []
  }
 ],
 "metadata": {
  "kernelspec": {
   "display_name": "Python 3",
   "language": "python",
   "name": "python3"
  },
  "language_info": {
   "codemirror_mode": {
    "name": "ipython",
    "version": 3
   },
   "file_extension": ".py",
   "mimetype": "text/x-python",
   "name": "python",
   "nbconvert_exporter": "python",
   "pygments_lexer": "ipython3",
   "version": "3.6.0"
  }
 },
 "nbformat": 4,
 "nbformat_minor": 2
}
